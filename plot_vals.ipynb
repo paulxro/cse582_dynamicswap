{
 "cells": [
  {
   "cell_type": "code",
   "execution_count": 31,
   "metadata": {},
   "outputs": [
    {
     "data": {
      "image/png": "[encoded data removed]",
      "text/plain": [
       "<Figure size 432x288 with 1 Axes>"
      ]
     },
     "metadata": {
      "needs_background": "light"
     },
     "output_type": "display_data"
    }
   ],
   "source": [
    "import matplotlib.pyplot as plt\n",
    "\n",
    "vals = []\n",
    "\n",
    "lim = 200000\n",
    "i = 0\n",
    "with open(\"/local/AIFM/aifm/test_tcp_size.out\", \"r\") as f:\n",
    "   for line in f:\n",
    "       i += 1\n",
    "       if i == lim:\n",
    "           break\n",
    "       vals.append(int(line))\n",
    "\n",
    "# plt.ylim(0, 12000)\n",
    "# plt.xlim(0, 5000)\n",
    "# plt.scatter(list(range(len(vals))), vals, s=5)\n",
    "plt.hist(vals, bins=[0,300,1000,2000,3000,5000,12000])\n",
    "\n",
    "\n",
    "plt.show()"
   ]
  }
 ],
 "metadata": {
  "kernelspec": {
   "display_name": "env",
   "language": "python",
   "name": "python3"
  },
  "language_info": {
   "codemirror_mode": {
    "name": "ipython",
    "version": 3
   },
   "file_extension": ".py",
   "mimetype": "text/x-python",
   "name": "python",
   "nbconvert_exporter": "python",
   "pygments_lexer": "ipython3",
   "version": "3.6.9"
  }
 },
 "nbformat": 4,
 "nbformat_minor": 2
}
